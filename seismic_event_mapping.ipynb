{
 "cells": [
  {
   "cell_type": "markdown",
   "id": "8a16f9cb-ea82-4783-86b2-ef2446dcbb85",
   "metadata": {},
   "source": [
    "Below is a Jupyter Notebook-style tutorial that demonstrates how to plot seismic event data on a map using PyGMT. The tutorial covers reading seismic data from a CSV file, configuring a region of interest, plotting topography, and visualizing earthquake events with color-coding based on depth."
   ]
  },
  {
   "cell_type": "code",
   "execution_count": 2,
   "id": "14ebc15a-9c02-45a0-8132-9e994a4c45c2",
   "metadata": {},
   "outputs": [],
   "source": [
    "# seismic_event_mapping.ipynb\n",
    "\n",
    "# Mapping Seismic Events with PyGMT\n",
    "# =================================\n",
    "\n",
    "# **Objective**: This notebook demonstrates how to visualize seismic event data on a map using the `PyGMT` library. \n",
    "# The tutorial includes reading data from a CSV file, defining a region of interest, plotting topography, and \n",
    "# displaying earthquake events with markers sized according to magnitude and color-coded by depth.\n",
    "\n",
    "# Importing Necessary Libraries\n",
    "# -----------------------------\n",
    "\n",
    "# We'll begin by importing the necessary libraries. `pandas` will be used for data manipulation, \n",
    "# and `pygmt` will be used for creating the map.\n",
    "\n",
    "import pandas as pd\n",
    "import pygmt"
   ]
  },
  {
   "cell_type": "markdown",
   "id": "f0895f11-89e5-426c-93d9-da4d2371a20d",
   "metadata": {},
   "source": [
    "Reading the Seismic Event Data\n",
    "------------------------------\n",
    "The seismic event data, which includes information such as latitude, longitude, magnitude, and depth,\n",
    "will be read from a CSV file using pandas."
   ]
  },
  {
   "cell_type": "code",
   "execution_count": 3,
   "id": "0cc0b20f-6b2c-43f4-81c2-0b6bec91c6e2",
   "metadata": {},
   "outputs": [],
   "source": [
    "# Read the CSV file containing seismic event data\n",
    "df = pd.read_csv(\"./seismic_events.csv\")"
   ]
  },
  {
   "cell_type": "markdown",
   "id": "74481445-8695-4235-b3a1-92888624720b",
   "metadata": {},
   "source": [
    "Defining the Region of Interest\n",
    "-------------------------------\n",
    "To ensure that the map encompasses all seismic events, we'll determine the minimum and maximum latitude\n",
    "and longitude from the data. We'll extend the boundaries slightly to provide a margin around the events."
   ]
  },
  {
   "cell_type": "code",
   "execution_count": 4,
   "id": "69a50ca2-d67f-44cf-bc81-9e2811d7d7d1",
   "metadata": {},
   "outputs": [],
   "source": [
    "# Determine the min and max latitude and longitude\n",
    "min_lat = df[\"Latitude\"].min() - 0.1  # Subtract 0.1 degree for margin\n",
    "max_lat = df[\"Latitude\"].max() + 0.1  # Add 0.1 degree for margin\n",
    "min_lon = df[\"Longitude\"].min() - 0.1  # Subtract 0.1 degree for margin\n",
    "max_lon = df[\"Longitude\"].max() + 0.1  # Add 0.1 degree for margin\n",
    "region = [min_lon, max_lon, min_lat, max_lat]  # [west, east, south, north]"
   ]
  },
  {
   "cell_type": "markdown",
   "id": "abc413b1-2fad-4f4e-a9f1-83cf453d92ec",
   "metadata": {},
   "source": [
    "Creating the Base Map with Topography\n",
    "-------------------------------------\n",
    "We will use the pygmt.grdimage function to create a base map that includes topography. The @earth_relief_30s\n",
    "dataset provides global topographic data at 30 arc-second resolution."
   ]
  },
  {
   "cell_type": "code",
   "execution_count": 6,
   "id": "442713f3-8c22-45cf-9e62-469cb6ce8510",
   "metadata": {},
   "outputs": [],
   "source": [
    "# Define the topography data source\n",
    "topo_data = '@earth_relief_30s'\n",
    "\n",
    "# Create a figure object and plot the topography\n",
    "fig = pygmt.Figure()\n",
    "fig.grdimage(grid=topo_data, cmap=\"white\", region=region, projection='M6i', shading=True, frame=True)"
   ]
  },
  {
   "cell_type": "markdown",
   "id": "2731a662-2866-4da1-a13c-a15f308c66dc",
   "metadata": {},
   "source": [
    "Customizing the Color Scale for Depth\n",
    "-------------------------------------\n",
    "We'll use a continuous color palette (cpt) to represent the depth of the earthquakes.\n",
    "The color scale will be adjusted according to the minimum and maximum depths in the dataset."
   ]
  },
  {
   "cell_type": "code",
   "execution_count": 7,
   "id": "2e9d53b4-29e1-455f-b473-ed3ebfdb41c4",
   "metadata": {},
   "outputs": [
    {
     "name": "stderr",
     "output_type": "stream",
     "text": [
      "makecpt [WARNING]: Without inc in -T option, -Z has no effect (ignored)\n"
     ]
    }
   ],
   "source": [
    "# Create a color palette for depth\n",
    "pygmt.makecpt(cmap=\"cool\", series=[df.Depth.min(), df.Depth.max()], continuous=True)"
   ]
  },
  {
   "cell_type": "markdown",
   "id": "f88df71e-1d4c-402b-81a8-dd6fc1614897",
   "metadata": {},
   "source": [
    "Plotting Earthquake Events\n",
    "--------------------------\n",
    "Each earthquake event will be plotted on the map using the fig.plot function.\n",
    "The marker size will be proportional to the magnitude, and the color will represent the depth."
   ]
  },
  {
   "cell_type": "code",
   "execution_count": 8,
   "id": "08553fa2-1897-4d50-836e-46129a2c3174",
   "metadata": {},
   "outputs": [],
   "source": [
    "# Plot the earthquake events with marker size proportional to magnitude and color by depth\n",
    "fig.plot(x=df.Longitude, y=df.Latitude, \n",
    "         size=0.02*(2 ** df.Magnitude),  # Size proportional to magnitude\n",
    "         fill=df.Depth,  # Color by depth\n",
    "         cmap=True, \n",
    "         style=\"cc\",  # Circular markers\n",
    "         pen=\"black\")  # Black outline for markers\n",
    "\n",
    "# Add a colorbar to show the depth scale\n",
    "fig.colorbar(frame='af+lFocal Depth (km)')"
   ]
  },
  {
   "cell_type": "markdown",
   "id": "38d26cb4-77a7-43a6-8425-24150216e948",
   "metadata": {},
   "source": [
    "Displaying the Map\n",
    "------------------\n",
    "Finally, we'll display the map. If needed, the map can also be saved to a file for later use."
   ]
  },
  {
   "cell_type": "code",
   "execution_count": 10,
   "id": "0d9a20d2-c0b1-4618-8d0b-b658d441e8f0",
   "metadata": {},
   "outputs": [],
   "source": [
    "# Show the map\n",
    "fig.show()\n",
    "\n",
    "# Save the figure to a file if needed\n",
    "# fig.savefig(\"isc_events_map.png\")"
   ]
  },
  {
   "cell_type": "code",
   "execution_count": null,
   "id": "63e917f7-3ad5-44de-94ed-7d467b7463f8",
   "metadata": {},
   "outputs": [],
   "source": []
  }
 ],
 "metadata": {
  "kernelspec": {
   "display_name": "Python 3 (ipykernel)",
   "language": "python",
   "name": "python3"
  },
  "language_info": {
   "codemirror_mode": {
    "name": "ipython",
    "version": 3
   },
   "file_extension": ".py",
   "mimetype": "text/x-python",
   "name": "python",
   "nbconvert_exporter": "python",
   "pygments_lexer": "ipython3",
   "version": "3.8.17"
  }
 },
 "nbformat": 4,
 "nbformat_minor": 5
}

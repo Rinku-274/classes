{
 "cells": [
  {
   "cell_type": "markdown",
   "id": "86440027-a36b-4b61-94eb-a0d58ea77888",
   "metadata": {},
   "source": [
    "Below is a Jupyter Notebook-style tutorial that walks through the process of fetching seismic event data from the ISC catalog using the obspy library, and saving the data to a CSV file."
   ]
  },
  {
   "cell_type": "code",
   "execution_count": 4,
   "id": "0fc8e23f-ed4e-40ff-93a3-2be2963c6d49",
   "metadata": {},
   "outputs": [],
   "source": [
    "# seismic_event_extraction.ipynb\n",
    "\n",
    "# Seismic Event Extraction from ISC Catalog using ObsPy\n",
    "# =====================================\n",
    "\n",
    "# **Objective**: This notebook demonstrates how to use the `obspy` library to fetch seismic event data \n",
    "# from the ISC catalog for a specific geographic region and time range. The extracted data will include \n",
    "# the origin time, latitude, longitude, magnitude, and depth of each event. Finally, the data will be \n",
    "# saved to a CSV file.\n",
    "\n",
    "# Importing Necessary Libraries\n",
    "# -----------------------------\n",
    "\n",
    "# We'll begin by importing the necessary libraries. The `obspy` library will be used to interact with the \n",
    "# seismic data, and `pandas` will be used for data manipulation and saving to a CSV file.\n",
    "from obspy import UTCDateTime\n",
    "from obspy.clients.fdsn import Client\n",
    "import pandas as pd"
   ]
  },
  {
   "cell_type": "markdown",
   "id": "dc537a4f-641a-46f2-98d8-65bcfd4a5bc3",
   "metadata": {},
   "source": [
    "Setting Up the FDSN Client\n",
    "--------------------------\n",
    "The FDSN client allows us to access seismic data from various data centers. In this tutorial, we will use\n",
    "the IRIS client to fetch events from the ISC catalog."
   ]
  },
  {
   "cell_type": "code",
   "execution_count": 5,
   "id": "e6c313ea-2ec5-43bd-9997-686255d4583a",
   "metadata": {},
   "outputs": [],
   "source": [
    "# Initialize the IRIS client\n",
    "client = Client(\"IRIS\")"
   ]
  },
  {
   "cell_type": "markdown",
   "id": "ec7fd64b-ae18-4de8-ba46-94e168cfa5f6",
   "metadata": {},
   "source": [
    "Defining the Search Parameters\n",
    "------------------------------\n",
    "We'll define the geographic region, time range, and magnitude range for the events we want to extract.\n",
    "The region is defined by the latitude and longitude boundaries, and the time range is specified using\n",
    "the UTCDateTime format."
   ]
  },
  {
   "cell_type": "code",
   "execution_count": 6,
   "id": "188bc701-68ed-4198-bf24-523f8acd2423",
   "metadata": {},
   "outputs": [],
   "source": [
    "# Define the range of catalog\n",
    "minlat = 29\n",
    "maxlat = 32\n",
    "minlon = 77\n",
    "maxlon = 81\n",
    "starttime = UTCDateTime(\"2010-01-01\")\n",
    "endtime = UTCDateTime(\"2020-01-01\")\n",
    "minmag = 0\n",
    "maxmag = 10"
   ]
  },
  {
   "cell_type": "markdown",
   "id": "e72f8e25-7aa1-4e89-8f67-a043f6c7158e",
   "metadata": {},
   "source": [
    "Fetching Events from the ISC Catalog\n",
    "------------------------------------\n",
    "Using the defined parameters, we'll fetch the seismic event data from the ISC catalog. The data includes\n",
    "events that occurred within the specified region and time range."
   ]
  },
  {
   "cell_type": "code",
   "execution_count": 7,
   "id": "7aa79d52-81ca-41e3-8b3c-1add542c0cae",
   "metadata": {},
   "outputs": [],
   "source": [
    "# Fetch events from the ISC catalog\n",
    "cat = client.get_events(starttime=starttime, endtime=endtime,\n",
    "                        minlatitude=minlat, maxlatitude=maxlat,\n",
    "                        minlongitude=minlon, maxlongitude=maxlon,\n",
    "                        minmagnitude=minmag, maxmagnitude=maxmag,\n",
    "                        mindepth=0, maxdepth=100,\n",
    "                        catalog=\"ISC\")"
   ]
  },
  {
   "cell_type": "markdown",
   "id": "0551fcc6-3761-460a-984e-a24ae69abd47",
   "metadata": {},
   "source": [
    "Extracting Event Details\n",
    "------------------------\n",
    "Now, we'll loop through the fetched events to extract relevant information such as the origin time,\n",
    "latitude, longitude, magnitude, and depth. This data will be stored in a list."
   ]
  },
  {
   "cell_type": "code",
   "execution_count": 8,
   "id": "58005984-370b-4bcc-9661-b0ba2a675ea3",
   "metadata": {},
   "outputs": [],
   "source": [
    "# Prepare a list to store event details\n",
    "event_data = []\n",
    "\n",
    "# Loop through the events and extract relevant information\n",
    "for event in cat:\n",
    "    origin = event.preferred_origin() or event.origins[0]\n",
    "    magnitude = event.preferred_magnitude() or event.magnitudes[0]\n",
    "\n",
    "    # Extract latitude, longitude, magnitude, depth, and origin time\n",
    "    lat = origin.latitude\n",
    "    lon = origin.longitude\n",
    "    mag = magnitude.mag\n",
    "    depth = origin.depth / 1000 if origin.depth is not None else None  # Convert depth to kilometers\n",
    "    origin_time = origin.time  # UTCDateTime\n",
    "\n",
    "    # Append the event data (origin_time, lat, lon, mag, depth) to the list\n",
    "    event_data.append([origin_time, lat, lon, mag, depth])\n"
   ]
  },
  {
   "cell_type": "markdown",
   "id": "3ff17426-cbde-41a3-ab27-5e8d4bf10d78",
   "metadata": {},
   "source": [
    "Creating a DataFrame and Saving to CSV\n",
    "--------------------------------------\n",
    "The extracted event data is then converted into a Pandas DataFrame, which makes it easier to manipulate\n",
    "and save to a file. We'll save the DataFrame to a CSV file for further analysis."
   ]
  },
  {
   "cell_type": "code",
   "execution_count": 9,
   "id": "fd3363f2-96f5-4dd7-98f3-523f8674e608",
   "metadata": {},
   "outputs": [],
   "source": [
    "# Convert the list to a Pandas DataFrame\n",
    "df = pd.DataFrame(event_data, columns=[\"Origin Time\", \"Latitude\", \"Longitude\", \"Magnitude\", \"Depth\"])\n",
    "\n",
    "# Save the DataFrame to a CSV file\n",
    "df.to_csv(\"./seismic_events.csv\", index=False)"
   ]
  },
  {
   "cell_type": "markdown",
   "id": "9ad9e0f2-a304-4c0e-ad9a-3fdfb5d2565e",
   "metadata": {},
   "source": [
    "Viewing the Extracted Data\n",
    "--------------------------\n",
    "Finally, let's take a quick look at the first few rows of the extracted data to ensure everything was\n",
    "captured correctly."
   ]
  },
  {
   "cell_type": "code",
   "execution_count": null,
   "id": "1afe4091-4738-4c10-9e4e-d3969f23f5b4",
   "metadata": {
    "scrolled": true
   },
   "outputs": [],
   "source": [
    "# Print the DataFrame\n",
    "print(df.head())"
   ]
  }
 ],
 "metadata": {
  "kernelspec": {
   "display_name": "Python 3 (ipykernel)",
   "language": "python",
   "name": "python3"
  },
  "language_info": {
   "codemirror_mode": {
    "name": "ipython",
    "version": 3
   },
   "file_extension": ".py",
   "mimetype": "text/x-python",
   "name": "python",
   "nbconvert_exporter": "python",
   "pygments_lexer": "ipython3",
   "version": "3.8.17"
  }
 },
 "nbformat": 4,
 "nbformat_minor": 5
}

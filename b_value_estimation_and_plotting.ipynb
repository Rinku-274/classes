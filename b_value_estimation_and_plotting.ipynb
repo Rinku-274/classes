{
 "cells": [
  {
   "cell_type": "markdown",
   "id": "2a9b6b92-fe9f-4a92-b656-e9253273044d",
   "metadata": {},
   "source": [
    "Below is a Jupyter Notebook-style tutorial that demonstrates how to estimate the b-value using the maximum likelihood method and plot the results. The b-value is a key parameter in seismology, representing the relationship between the magnitude and frequency of earthquakes."
   ]
  },
  {
   "cell_type": "code",
   "execution_count": 2,
   "id": "76277bc6-d024-4d99-8691-dd23f7357c6e",
   "metadata": {},
   "outputs": [],
   "source": [
    "# b_value_estimation_and_plotting.ipynb\n",
    "\n",
    "# Estimating b-value and Plotting Seismic Data\n",
    "# ============================================\n",
    "\n",
    "# **Objective**: This notebook demonstrates how to estimate the b-value of seismic events using the maximum likelihood method, \n",
    "# and how to visualize the results in a Gutenberg-Richter plot.\n",
    "\n",
    "# Importing Necessary Libraries\n",
    "# -----------------------------\n",
    "\n",
    "# We'll start by importing the necessary libraries. `numpy` and `pandas` will be used for data manipulation, \n",
    "# and `matplotlib` will be used for plotting the results.\n",
    "\n",
    "import numpy as np\n",
    "import pandas as pd\n",
    "import matplotlib.pyplot as plt\n",
    "import math"
   ]
  },
  {
   "cell_type": "markdown",
   "id": "a12ec4ac-ff96-4759-8a76-8414e99b71d1",
   "metadata": {},
   "source": [
    "Defining the b-value Estimation Function\n",
    "----------------------------------------\n",
    "The b-value will be estimated using the maximum likelihood method (Aki, 1965).\n",
    "The function b_est calculates the b-value along with uncertainty estimates"
   ]
  },
  {
   "cell_type": "code",
   "execution_count": 3,
   "id": "f50ed67c-9989-4d90-bcd5-3293a5ff8e1f",
   "metadata": {},
   "outputs": [],
   "source": [
    "# Function to estimate b-value using maximum likelihood method (Aki, 1965)\n",
    "def b_est(mag, mbin, mc):\n",
    "    mag_above_mc = mag[np.where(mag > round(mc, 1) - mbin / 2)[0]]  # Magnitudes for events larger than cut-off magnitude mc\n",
    "    n = mag_above_mc.shape[0]  # Number of events larger than cut-off magnitude mc\n",
    "    if n < 2:\n",
    "        a = np.nan\n",
    "        b = np.nan\n",
    "        aki_unc = np.nan\n",
    "        shibolt_unc = np.nan\n",
    "    else:\n",
    "        mbar = np.mean(mag_above_mc)  # Mean magnitude for events larger than cut-off magnitude mc\n",
    "        b = math.log10(math.exp(1)) / (mbar - (mc - mbin / 2))  # b-value\n",
    "        a = math.log10(n) + b * mc  # 'a-value'\n",
    "        aki_unc = b / math.sqrt(n)  # Aki uncertainty estimate\n",
    "        shibolt_unc = 2.3 * b**2 * math.sqrt(np.sum((mag_above_mc - mbar)**2) / (n * (n - 1)))  # Shi & Bolt uncertainty estimate\n",
    "\n",
    "    return a, b, aki_unc, shibolt_unc  # Return b-value and estimates of uncertainty\n"
   ]
  },
  {
   "cell_type": "markdown",
   "id": "68f586cf-d1e2-4288-904a-b4f50db9e04f",
   "metadata": {},
   "source": [
    "Loading the Seismic Event Data\n",
    "------------------------------\n",
    "The seismic event data, including magnitudes, will be loaded from a CSV file using pandas."
   ]
  },
  {
   "cell_type": "code",
   "execution_count": 4,
   "id": "d649e482-e41d-486c-a80e-3881e7c15b74",
   "metadata": {},
   "outputs": [],
   "source": [
    "# Load the data\n",
    "df = pd.read_csv('./seismic_events.csv')\n",
    "\n",
    "# Extract magnitudes\n",
    "magnitudes = df['Magnitude'].values"
   ]
  },
  {
   "cell_type": "markdown",
   "id": "9ef5943c-0727-42c9-b758-02443a65cace",
   "metadata": {},
   "source": [
    "Setting Parameters for b-value Estimation\n",
    "-----------------------------------------\n",
    "We'll define the magnitude of completeness (Mc), which is the lowest magnitude at which the earthquake catalog\n",
    "is considered complete. We'll also set the magnitude bin size (mbin)."
   ]
  },
  {
   "cell_type": "code",
   "execution_count": 5,
   "id": "42b6c244-e773-4970-a601-ecaee43a5c0e",
   "metadata": {},
   "outputs": [],
   "source": [
    "# Define parameters for b-value estimation\n",
    "cat_mc = 3.0  # Set this to a higher value based on your analysis\n",
    "mbin = 0.1  # Magnitude bin size"
   ]
  },
  {
   "cell_type": "markdown",
   "id": "9d7c3e7c-f895-4268-bc6a-581ae4650345",
   "metadata": {},
   "source": [
    "Estimating the b-value\n",
    "----------------------\n",
    "Using the defined parameters, we'll estimate the b-value and its uncertainties using the b_est function."
   ]
  },
  {
   "cell_type": "code",
   "execution_count": 7,
   "id": "e1a5deeb-d90a-40ac-866b-6f0ca3538342",
   "metadata": {},
   "outputs": [],
   "source": [
    "# Calculate b-value\n",
    "cat_a, cat_b, cat_aki_unc, cat_shibolt_unc = b_est(mag=magnitudes, mbin=mbin, mc=cat_mc)"
   ]
  },
  {
   "cell_type": "markdown",
   "id": "9bf6a034-d2e6-40da-b880-9c7f886cd8ed",
   "metadata": {},
   "source": [
    "Calculating the Frequency for Plotting\n",
    "--------------------------------------\n",
    "To plot the frequency-magnitude distribution, we'll create magnitude bins and count the number of events in each bin.\n",
    "The cumulative frequency will also be calculated for plotting."
   ]
  },
  {
   "cell_type": "code",
   "execution_count": 9,
   "id": "d4ce1b83-86ea-4eac-a0ef-8f7f1807400e",
   "metadata": {},
   "outputs": [],
   "source": [
    "# Calculate frequency for plotting\n",
    "# Create magnitude bins for frequency count\n",
    "bin_edges = np.arange(magnitudes.min(), magnitudes.max() + mbin, mbin)\n",
    "cat_nbmag, _ = np.histogram(magnitudes, bins=bin_edges)  # Number of events in each bin\n",
    "cat_cumnbmag = np.cumsum(cat_nbmag[::-1])[::-1]  # Cumulative frequency\n",
    "\n",
    "# Midpoint of bins for plotting\n",
    "cat_mi = 0.5 * (bin_edges[1:] + bin_edges[:-1])"
   ]
  },
  {
   "cell_type": "markdown",
   "id": "c1a3984e-f961-43ae-862a-8af56042ec58",
   "metadata": {},
   "source": [
    "Plotting the b-value Results\n",
    "----------------------------\n",
    "We'll create a plot of the cumulative frequency against magnitude, with the fitted line representing the Gutenberg-Richter relationship."
   ]
  },
  {
   "cell_type": "code",
   "execution_count": null,
   "id": "7b747354-5ce1-4d99-8931-9e127963c05a",
   "metadata": {},
   "outputs": [],
   "source": [
    "# Calculate fitted line values for plotting\n",
    "fitted_line_values = (10 ** (cat_a - (cat_b * cat_mi)))\n",
    "\n",
    "# Plotting\n",
    "plt.figure(figsize=(8, 5))\n",
    "plt.plot(cat_mi, cat_cumnbmag, 'o', label='Cumulative Frequency', color='red')  # Red dots for cumulative frequency\n",
    "plt.plot(cat_mi, fitted_line_values, label='Fitted Line', color='blue')  # Fitted line in blue\n",
    "\n",
    "# Calculate frequency at Mc using the fitted line\n",
    "frequency_at_mc = 10 ** (cat_a - (cat_b * cat_mc))\n",
    "\n",
    "# Plot green triangle at Mc value\n",
    "plt.scatter(cat_mc, frequency_at_mc, color='green', marker='^', s=100, label='Magnitude of Completeness (Mc)')  # Green triangle at Mc\n",
    "\n",
    "plt.yscale('log')\n",
    "plt.ylim(1, 10**math.ceil(math.log10(df.shape[0])))\n",
    "plt.xlabel('Magnitude')\n",
    "plt.ylabel('Frequency')\n",
    "plt.title('b-value plot')\n",
    "\n",
    "# Adjusted text positions for clarity\n",
    "plt.text(x=cat_mc + 0.1, y=2.5e3, s=\"Mc = \" + str(round(cat_mc, 1)))  # Closer position for Mc\n",
    "plt.text(x=cat_mc + 0.1, y=2e3, s=\"b-value = \" + str(round(cat_b, 3)) + \" +/- \" + str(round(cat_shibolt_unc, 3)))  # Closer position for b-value\n",
    "\n",
    "plt.legend()\n",
    "plt.grid(True)\n",
    "plt.show()\n"
   ]
  }
 ],
 "metadata": {
  "kernelspec": {
   "display_name": "Python 3 (ipykernel)",
   "language": "python",
   "name": "python3"
  },
  "language_info": {
   "codemirror_mode": {
    "name": "ipython",
    "version": 3
   },
   "file_extension": ".py",
   "mimetype": "text/x-python",
   "name": "python",
   "nbconvert_exporter": "python",
   "pygments_lexer": "ipython3",
   "version": "3.8.17"
  }
 },
 "nbformat": 4,
 "nbformat_minor": 5
}
